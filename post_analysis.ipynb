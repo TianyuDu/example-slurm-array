{
 "cells": [
  {
   "cell_type": "code",
   "execution_count": 19,
   "metadata": {},
   "outputs": [],
   "source": [
    "import os\n",
    "import numpy as np\n",
    "import pandas as pd\n",
    "from glob import glob"
   ]
  },
  {
   "cell_type": "code",
   "execution_count": 32,
   "metadata": {},
   "outputs": [],
   "source": [
    "INPUT_FILE = \"./input.csv\"\n",
    "OUTPUT_PATH = \"./output\"\n",
    "\n",
    "df_input = pd.read_csv(INPUT_FILE, low_memory=False)\n",
    "df_output = pd.concat([pd.read_csv(f) for f in [os.path.join(OUTPUT_PATH, f\"output_file_{i}_of_100.csv\") for i in range(100)]], ignore_index=True)\n",
    "df_output_v2 = pd.concat([pd.read_csv(f) for f in [os.path.join(OUTPUT_PATH, f\"output_file_{i}_of_30.csv\") for i in range(30)]], ignore_index=True)"
   ]
  },
  {
   "cell_type": "code",
   "execution_count": 33,
   "metadata": {},
   "outputs": [
    {
     "data": {
      "text/html": [
       "<div>\n",
       "<style scoped>\n",
       "    .dataframe tbody tr th:only-of-type {\n",
       "        vertical-align: middle;\n",
       "    }\n",
       "\n",
       "    .dataframe tbody tr th {\n",
       "        vertical-align: top;\n",
       "    }\n",
       "\n",
       "    .dataframe thead th {\n",
       "        text-align: right;\n",
       "    }\n",
       "</style>\n",
       "<table border=\"1\" class=\"dataframe\">\n",
       "  <thead>\n",
       "    <tr style=\"text-align: right;\">\n",
       "      <th></th>\n",
       "      <th>input</th>\n",
       "      <th>SLURM_ARRAY_TASK_ID</th>\n",
       "      <th>SLURM_ARRAY_TASK_COUNT</th>\n",
       "      <th>output</th>\n",
       "    </tr>\n",
       "  </thead>\n",
       "  <tbody>\n",
       "    <tr>\n",
       "      <th>0</th>\n",
       "      <td>0.381938</td>\n",
       "      <td>0</td>\n",
       "      <td>100</td>\n",
       "      <td>1.381938</td>\n",
       "    </tr>\n",
       "    <tr>\n",
       "      <th>1</th>\n",
       "      <td>0.010061</td>\n",
       "      <td>0</td>\n",
       "      <td>100</td>\n",
       "      <td>1.010061</td>\n",
       "    </tr>\n",
       "    <tr>\n",
       "      <th>2</th>\n",
       "      <td>0.220818</td>\n",
       "      <td>0</td>\n",
       "      <td>100</td>\n",
       "      <td>1.220818</td>\n",
       "    </tr>\n",
       "    <tr>\n",
       "      <th>3</th>\n",
       "      <td>0.944022</td>\n",
       "      <td>0</td>\n",
       "      <td>100</td>\n",
       "      <td>1.944022</td>\n",
       "    </tr>\n",
       "    <tr>\n",
       "      <th>4</th>\n",
       "      <td>0.348200</td>\n",
       "      <td>0</td>\n",
       "      <td>100</td>\n",
       "      <td>1.348200</td>\n",
       "    </tr>\n",
       "  </tbody>\n",
       "</table>\n",
       "</div>"
      ],
      "text/plain": [
       "      input  SLURM_ARRAY_TASK_ID  SLURM_ARRAY_TASK_COUNT    output\n",
       "0  0.381938                    0                     100  1.381938\n",
       "1  0.010061                    0                     100  1.010061\n",
       "2  0.220818                    0                     100  1.220818\n",
       "3  0.944022                    0                     100  1.944022\n",
       "4  0.348200                    0                     100  1.348200"
      ]
     },
     "execution_count": 33,
     "metadata": {},
     "output_type": "execute_result"
    }
   ],
   "source": [
    "df_output.head()"
   ]
  },
  {
   "cell_type": "code",
   "execution_count": 34,
   "metadata": {},
   "outputs": [
    {
     "data": {
      "text/html": [
       "<div>\n",
       "<style scoped>\n",
       "    .dataframe tbody tr th:only-of-type {\n",
       "        vertical-align: middle;\n",
       "    }\n",
       "\n",
       "    .dataframe tbody tr th {\n",
       "        vertical-align: top;\n",
       "    }\n",
       "\n",
       "    .dataframe thead th {\n",
       "        text-align: right;\n",
       "    }\n",
       "</style>\n",
       "<table border=\"1\" class=\"dataframe\">\n",
       "  <thead>\n",
       "    <tr style=\"text-align: right;\">\n",
       "      <th></th>\n",
       "      <th>input</th>\n",
       "      <th>SLURM_ARRAY_TASK_ID</th>\n",
       "      <th>SLURM_ARRAY_TASK_COUNT</th>\n",
       "      <th>output</th>\n",
       "    </tr>\n",
       "  </thead>\n",
       "  <tbody>\n",
       "    <tr>\n",
       "      <th>0</th>\n",
       "      <td>0.381938</td>\n",
       "      <td>0</td>\n",
       "      <td>30</td>\n",
       "      <td>1.381938</td>\n",
       "    </tr>\n",
       "    <tr>\n",
       "      <th>1</th>\n",
       "      <td>0.010061</td>\n",
       "      <td>0</td>\n",
       "      <td>30</td>\n",
       "      <td>1.010061</td>\n",
       "    </tr>\n",
       "    <tr>\n",
       "      <th>2</th>\n",
       "      <td>0.220818</td>\n",
       "      <td>0</td>\n",
       "      <td>30</td>\n",
       "      <td>1.220818</td>\n",
       "    </tr>\n",
       "    <tr>\n",
       "      <th>3</th>\n",
       "      <td>0.944022</td>\n",
       "      <td>0</td>\n",
       "      <td>30</td>\n",
       "      <td>1.944022</td>\n",
       "    </tr>\n",
       "    <tr>\n",
       "      <th>4</th>\n",
       "      <td>0.348200</td>\n",
       "      <td>0</td>\n",
       "      <td>30</td>\n",
       "      <td>1.348200</td>\n",
       "    </tr>\n",
       "    <tr>\n",
       "      <th>...</th>\n",
       "      <td>...</td>\n",
       "      <td>...</td>\n",
       "      <td>...</td>\n",
       "      <td>...</td>\n",
       "    </tr>\n",
       "    <tr>\n",
       "      <th>9995</th>\n",
       "      <td>0.313750</td>\n",
       "      <td>29</td>\n",
       "      <td>30</td>\n",
       "      <td>1.313750</td>\n",
       "    </tr>\n",
       "    <tr>\n",
       "      <th>9996</th>\n",
       "      <td>0.034611</td>\n",
       "      <td>29</td>\n",
       "      <td>30</td>\n",
       "      <td>1.034611</td>\n",
       "    </tr>\n",
       "    <tr>\n",
       "      <th>9997</th>\n",
       "      <td>0.434952</td>\n",
       "      <td>29</td>\n",
       "      <td>30</td>\n",
       "      <td>1.434952</td>\n",
       "    </tr>\n",
       "    <tr>\n",
       "      <th>9998</th>\n",
       "      <td>0.399060</td>\n",
       "      <td>29</td>\n",
       "      <td>30</td>\n",
       "      <td>1.399060</td>\n",
       "    </tr>\n",
       "    <tr>\n",
       "      <th>9999</th>\n",
       "      <td>0.021293</td>\n",
       "      <td>29</td>\n",
       "      <td>30</td>\n",
       "      <td>1.021293</td>\n",
       "    </tr>\n",
       "  </tbody>\n",
       "</table>\n",
       "<p>10000 rows × 4 columns</p>\n",
       "</div>"
      ],
      "text/plain": [
       "         input  SLURM_ARRAY_TASK_ID  SLURM_ARRAY_TASK_COUNT    output\n",
       "0     0.381938                    0                      30  1.381938\n",
       "1     0.010061                    0                      30  1.010061\n",
       "2     0.220818                    0                      30  1.220818\n",
       "3     0.944022                    0                      30  1.944022\n",
       "4     0.348200                    0                      30  1.348200\n",
       "...        ...                  ...                     ...       ...\n",
       "9995  0.313750                   29                      30  1.313750\n",
       "9996  0.034611                   29                      30  1.034611\n",
       "9997  0.434952                   29                      30  1.434952\n",
       "9998  0.399060                   29                      30  1.399060\n",
       "9999  0.021293                   29                      30  1.021293\n",
       "\n",
       "[10000 rows x 4 columns]"
      ]
     },
     "execution_count": 34,
     "metadata": {},
     "output_type": "execute_result"
    }
   ],
   "source": [
    "df_output_v2"
   ]
  },
  {
   "cell_type": "code",
   "execution_count": 36,
   "metadata": {},
   "outputs": [],
   "source": [
    "assert np.all(df_output[\"input\"] == df_input[\"input\"]) and np.all(df_output_v2[\"input\"] == df_input[\"input\"])\n",
    "assert np.all(np.isclose(df_output[\"output\"], df_output[\"input\"] + 1)) and np.all(np.isclose(df_output_v2[\"output\"], df_output_v2[\"input\"] + 1))"
   ]
  },
  {
   "cell_type": "code",
   "execution_count": 37,
   "metadata": {},
   "outputs": [
    {
     "data": {
      "text/plain": [
       "SLURM_ARRAY_TASK_COUNT\n",
       "100    10000\n",
       "Name: count, dtype: int64"
      ]
     },
     "execution_count": 37,
     "metadata": {},
     "output_type": "execute_result"
    }
   ],
   "source": [
    "# tracks the number of tasks in each job.\n",
    "df_output[\"SLURM_ARRAY_TASK_COUNT\"].value_counts()"
   ]
  },
  {
   "cell_type": "code",
   "execution_count": 38,
   "metadata": {},
   "outputs": [
    {
     "data": {
      "text/plain": [
       "SLURM_ARRAY_TASK_ID\n",
       "0     100\n",
       "63    100\n",
       "73    100\n",
       "72    100\n",
       "71    100\n",
       "     ... \n",
       "30    100\n",
       "29    100\n",
       "28    100\n",
       "27    100\n",
       "99    100\n",
       "Name: count, Length: 100, dtype: int64"
      ]
     },
     "execution_count": 38,
     "metadata": {},
     "output_type": "execute_result"
    }
   ],
   "source": [
    "# tracks the number of jobs in each batch.\n",
    "df_output[\"SLURM_ARRAY_TASK_ID\"].value_counts()"
   ]
  },
  {
   "cell_type": "code",
   "execution_count": 41,
   "metadata": {},
   "outputs": [
    {
     "data": {
      "text/plain": [
       "SLURM_ARRAY_TASK_ID\n",
       "0     334\n",
       "1     334\n",
       "28    334\n",
       "27    334\n",
       "26    334\n",
       "25    334\n",
       "24    334\n",
       "23    334\n",
       "22    334\n",
       "21    334\n",
       "20    334\n",
       "19    334\n",
       "18    334\n",
       "17    334\n",
       "16    334\n",
       "15    334\n",
       "14    334\n",
       "13    334\n",
       "12    334\n",
       "11    334\n",
       "10    334\n",
       "9     334\n",
       "8     334\n",
       "7     334\n",
       "6     334\n",
       "5     334\n",
       "4     334\n",
       "3     334\n",
       "2     334\n",
       "29    314\n",
       "Name: count, dtype: int64"
      ]
     },
     "execution_count": 41,
     "metadata": {},
     "output_type": "execute_result"
    }
   ],
   "source": [
    "# tracks the number of jobs in each batch.\n",
    "df_output_v2[\"SLURM_ARRAY_TASK_ID\"].value_counts()"
   ]
  },
  {
   "cell_type": "code",
   "execution_count": null,
   "metadata": {},
   "outputs": [],
   "source": []
  }
 ],
 "metadata": {
  "kernelspec": {
   "display_name": "science",
   "language": "python",
   "name": "python3"
  },
  "language_info": {
   "codemirror_mode": {
    "name": "ipython",
    "version": 3
   },
   "file_extension": ".py",
   "mimetype": "text/x-python",
   "name": "python",
   "nbconvert_exporter": "python",
   "pygments_lexer": "ipython3",
   "version": "3.12.8"
  }
 },
 "nbformat": 4,
 "nbformat_minor": 2
}
