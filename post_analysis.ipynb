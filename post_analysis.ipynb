{
 "cells": [
  {
   "cell_type": "code",
   "execution_count": null,
   "metadata": {},
   "outputs": [],
   "source": [
    "import os\n",
    "import pandas as pd\n",
    "from glob import glob"
   ]
  },
  {
   "cell_type": "code",
   "execution_count": null,
   "metadata": {},
   "outputs": [],
   "source": [
    "INPUT_FILE = \"./input.csv\"\n",
    "OUTPUT_PATH = \"./output\"\n",
    "\n",
    "df_input = pd.read_csv(INPUT_FILE, low_memory=False)\n",
    "output_files = glob(os.path.join(OUTPUT_PATH, \"*.csv\"))\n",
    "df_output = pd.concat([pd.read_csv(f) for f in output_files], ignore_index=True)"
   ]
  }
 ],
 "metadata": {
  "language_info": {
   "name": "python"
  }
 },
 "nbformat": 4,
 "nbformat_minor": 2
}
