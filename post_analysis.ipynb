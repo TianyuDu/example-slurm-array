{
 "cells": [
  {
   "cell_type": "code",
   "execution_count": 11,
   "metadata": {},
   "outputs": [],
   "source": [
    "import os\n",
    "import numpy as np\n",
    "import pandas as pd\n",
    "from glob import glob"
   ]
  },
  {
   "cell_type": "code",
   "execution_count": 12,
   "metadata": {},
   "outputs": [],
   "source": [
    "INPUT_FILE = \"./input.csv\"\n",
    "OUTPUT_PATH = \"./output\"\n",
    "\n",
    "df_input = pd.read_csv(INPUT_FILE, low_memory=False)\n",
    "output_files = [os.path.join(OUTPUT_PATH, f\"output_file_{i}_of_100.pkl\") for i in range(100)]\n",
    "df_output = pd.concat([pd.read_csv(f) for f in output_files], ignore_index=True)"
   ]
  },
  {
   "cell_type": "code",
   "execution_count": 17,
   "metadata": {},
   "outputs": [
    {
     "data": {
      "text/html": [
       "<div>\n",
       "<style scoped>\n",
       "    .dataframe tbody tr th:only-of-type {\n",
       "        vertical-align: middle;\n",
       "    }\n",
       "\n",
       "    .dataframe tbody tr th {\n",
       "        vertical-align: top;\n",
       "    }\n",
       "\n",
       "    .dataframe thead th {\n",
       "        text-align: right;\n",
       "    }\n",
       "</style>\n",
       "<table border=\"1\" class=\"dataframe\">\n",
       "  <thead>\n",
       "    <tr style=\"text-align: right;\">\n",
       "      <th></th>\n",
       "      <th>Unnamed: 0</th>\n",
       "      <th>input</th>\n",
       "      <th>SLURM_ARRAY_TASK_ID</th>\n",
       "      <th>SLURM_ARRAY_TASK_COUNT</th>\n",
       "      <th>output</th>\n",
       "    </tr>\n",
       "  </thead>\n",
       "  <tbody>\n",
       "    <tr>\n",
       "      <th>0</th>\n",
       "      <td>0</td>\n",
       "      <td>0.166327</td>\n",
       "      <td>0</td>\n",
       "      <td>100</td>\n",
       "      <td>1.166327</td>\n",
       "    </tr>\n",
       "    <tr>\n",
       "      <th>1</th>\n",
       "      <td>1</td>\n",
       "      <td>0.579434</td>\n",
       "      <td>1</td>\n",
       "      <td>100</td>\n",
       "      <td>1.579434</td>\n",
       "    </tr>\n",
       "    <tr>\n",
       "      <th>2</th>\n",
       "      <td>2</td>\n",
       "      <td>0.875816</td>\n",
       "      <td>2</td>\n",
       "      <td>100</td>\n",
       "      <td>1.875816</td>\n",
       "    </tr>\n",
       "    <tr>\n",
       "      <th>3</th>\n",
       "      <td>3</td>\n",
       "      <td>0.413138</td>\n",
       "      <td>3</td>\n",
       "      <td>100</td>\n",
       "      <td>1.413138</td>\n",
       "    </tr>\n",
       "    <tr>\n",
       "      <th>4</th>\n",
       "      <td>4</td>\n",
       "      <td>0.168878</td>\n",
       "      <td>4</td>\n",
       "      <td>100</td>\n",
       "      <td>1.168878</td>\n",
       "    </tr>\n",
       "  </tbody>\n",
       "</table>\n",
       "</div>"
      ],
      "text/plain": [
       "   Unnamed: 0     input  SLURM_ARRAY_TASK_ID  SLURM_ARRAY_TASK_COUNT    output\n",
       "0           0  0.166327                    0                     100  1.166327\n",
       "1           1  0.579434                    1                     100  1.579434\n",
       "2           2  0.875816                    2                     100  1.875816\n",
       "3           3  0.413138                    3                     100  1.413138\n",
       "4           4  0.168878                    4                     100  1.168878"
      ]
     },
     "execution_count": 17,
     "metadata": {},
     "output_type": "execute_result"
    }
   ],
   "source": [
    "df_output.head()"
   ]
  },
  {
   "cell_type": "code",
   "execution_count": 14,
   "metadata": {},
   "outputs": [],
   "source": [
    "assert np.all(df_output[\"input\"] == df_input[\"input\"])"
   ]
  },
  {
   "cell_type": "code",
   "execution_count": 16,
   "metadata": {},
   "outputs": [
    {
     "data": {
      "text/plain": [
       "SLURM_ARRAY_TASK_COUNT\n",
       "100    100\n",
       "Name: count, dtype: int64"
      ]
     },
     "execution_count": 16,
     "metadata": {},
     "output_type": "execute_result"
    }
   ],
   "source": [
    "df_output[\"SLURM_ARRAY_TASK_COUNT\"].value_counts()"
   ]
  },
  {
   "cell_type": "code",
   "execution_count": 18,
   "metadata": {},
   "outputs": [
    {
     "data": {
      "text/plain": [
       "SLURM_ARRAY_TASK_ID\n",
       "0     1\n",
       "63    1\n",
       "73    1\n",
       "72    1\n",
       "71    1\n",
       "     ..\n",
       "30    1\n",
       "29    1\n",
       "28    1\n",
       "27    1\n",
       "99    1\n",
       "Name: count, Length: 100, dtype: int64"
      ]
     },
     "execution_count": 18,
     "metadata": {},
     "output_type": "execute_result"
    }
   ],
   "source": [
    "df_output[\"SLURM_ARRAY_TASK_ID\"].value_counts()"
   ]
  },
  {
   "cell_type": "code",
   "execution_count": null,
   "metadata": {},
   "outputs": [],
   "source": []
  }
 ],
 "metadata": {
  "kernelspec": {
   "display_name": "science",
   "language": "python",
   "name": "python3"
  },
  "language_info": {
   "codemirror_mode": {
    "name": "ipython",
    "version": 3
   },
   "file_extension": ".py",
   "mimetype": "text/x-python",
   "name": "python",
   "nbconvert_exporter": "python",
   "pygments_lexer": "ipython3",
   "version": "3.12.8"
  }
 },
 "nbformat": 4,
 "nbformat_minor": 2
}
